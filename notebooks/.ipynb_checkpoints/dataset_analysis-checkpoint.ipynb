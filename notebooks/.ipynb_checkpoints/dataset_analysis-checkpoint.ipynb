{
 "cells": [
  {
   "cell_type": "markdown",
   "id": "cdf20f1a-1355-4027-93d6-7c9d8b00414e",
   "metadata": {},
   "source": [
    "# Notebook for analyzing the Delhi High Court dataset and the results of the models"
   ]
  },
  {
   "cell_type": "code",
   "execution_count": 128,
   "id": "f491b8ae-2961-4546-a0c0-6cd0a649ff64",
   "metadata": {},
   "outputs": [],
   "source": [
    "import os\n",
    "import json\n",
    "import plotly.express as px\n",
    "from collections import Counter, defaultdict\n",
    "import statistics\n",
    "import numpy as np\n",
    "import pandas as pd\n",
    "import matplotlib.pyplot as plt\n",
    "import scipy.stats as stats\n",
    "from itertools import chain"
   ]
  },
  {
   "cell_type": "markdown",
   "id": "311b4769-c772-4576-ba4e-f65729bd6727",
   "metadata": {},
   "source": [
    "## For the entire dataset"
   ]
  },
  {
   "cell_type": "markdown",
   "id": "1f51d598-e7ba-42ee-a125-8300cc9e73c8",
   "metadata": {},
   "source": [
    "Getting advocate cases"
   ]
  },
  {
   "cell_type": "code",
   "execution_count": 120,
   "id": "bb28ee44-42ef-4b71-a0c7-b9065c02833a",
   "metadata": {},
   "outputs": [],
   "source": [
    "adv_cases_path = \"/home/workboots/Datasets/DHC/common_new/adv_info/adv_cases.json\"\n",
    "case_chapters_path = \"/home/workboots/Datasets/DHC/common_new/targets/case_chapters.json\""
   ]
  },
  {
   "cell_type": "code",
   "execution_count": 121,
   "id": "41dbdbae-ddac-49f7-b112-fbfb13acac51",
   "metadata": {},
   "outputs": [],
   "source": [
    "with open(adv_cases_path, 'r') as f:\n",
    "    adv_cases = json.load(f)"
   ]
  },
  {
   "cell_type": "code",
   "execution_count": 122,
   "id": "2c7c950b-26b2-401a-ac16-18929c2cd152",
   "metadata": {},
   "outputs": [],
   "source": [
    "with open(case_chapters_path, 'r') as f:\n",
    "    case_chapters = json.load(f)"
   ]
  },
  {
   "cell_type": "markdown",
   "id": "058e3245-814d-4a29-8d9f-0d5ddacb1aec",
   "metadata": {},
   "source": [
    "Getting the charge modality of advocates"
   ]
  },
  {
   "cell_type": "code",
   "execution_count": 123,
   "id": "613d293c-e2ce-4534-a5c5-2bdcd2e87f67",
   "metadata": {},
   "outputs": [],
   "source": [
    "adv_charges = defaultdict(list)"
   ]
  },
  {
   "cell_type": "code",
   "execution_count": 130,
   "id": "381bbe46-81f5-44fe-96c9-ff3b1f55290a",
   "metadata": {},
   "outputs": [],
   "source": [
    "for adv, cases in adv_cases.items():\n",
    "    adv_charges[adv].extend(chain.from_iterable([case_chapters.get(case, []) for case in cases]))"
   ]
  },
  {
   "cell_type": "code",
   "execution_count": 132,
   "id": "ae5e65f9-9116-4f8a-8467-50ed386040c3",
   "metadata": {},
   "outputs": [],
   "source": [
    "adv_case_counts = {k: len(v) for k, v in adv_cases.items()}"
   ]
  },
  {
   "cell_type": "code",
   "execution_count": 136,
   "id": "a59b1a80-9438-433e-b1ec-e6b6ef43758a",
   "metadata": {},
   "outputs": [],
   "source": [
    "adv_modality = {k: len(statistics.multimode(v)) for k, v in adv_charges.items()}"
   ]
  },
  {
   "cell_type": "code",
   "execution_count": 138,
   "id": "1278880a-af21-4ac1-a4ce-c3e399eba3a7",
   "metadata": {},
   "outputs": [],
   "source": [
    "adv_count_modality = {k: (adv_modality[k], adv_case_counts[k]) for k in adv_modality}a"
   ]
  },
  {
   "cell_type": "code",
   "execution_count": 156,
   "id": "247aec97-c513-4231-adfe-c7be16b97134",
   "metadata": {},
   "outputs": [],
   "source": [
    "modality_cases_counts = Counter(adv_count_modality.values())"
   ]
  },
  {
   "cell_type": "code",
   "execution_count": 157,
   "id": "4c62ac25-31d0-43f5-8f01-46ead9b8ded9",
   "metadata": {
    "collapsed": true,
    "jupyter": {
     "outputs_hidden": true
    },
    "tags": []
   },
   "outputs": [
    {
     "data": {
      "text/plain": [
       "Counter({(1, 404): 1,\n",
       "         (2, 1): 1028,\n",
       "         (1, 227): 1,\n",
       "         (1, 3): 413,\n",
       "         (0, 1): 5149,\n",
       "         (1, 7): 156,\n",
       "         (2, 17): 13,\n",
       "         (2, 155): 1,\n",
       "         (2, 269): 1,\n",
       "         (1, 5): 241,\n",
       "         (0, 3): 277,\n",
       "         (1, 24): 23,\n",
       "         (1, 22): 21,\n",
       "         (0, 2): 861,\n",
       "         (7, 5): 33,\n",
       "         (2, 3): 232,\n",
       "         (1, 201): 1,\n",
       "         (1, 122): 1,\n",
       "         (4, 26): 2,\n",
       "         (1, 2): 654,\n",
       "         (1, 149): 1,\n",
       "         (2, 59): 5,\n",
       "         (1, 19): 28,\n",
       "         (1, 10): 108,\n",
       "         (1, 37): 11,\n",
       "         (2, 6): 86,\n",
       "         (1, 54): 6,\n",
       "         (2, 76): 1,\n",
       "         (1, 125): 1,\n",
       "         (12, 24): 2,\n",
       "         (3, 10): 27,\n",
       "         (1, 35): 10,\n",
       "         (4, 45): 2,\n",
       "         (2, 9): 47,\n",
       "         (2, 11): 28,\n",
       "         (1, 29): 15,\n",
       "         (1, 44): 11,\n",
       "         (1, 91): 3,\n",
       "         (2, 88): 2,\n",
       "         (5, 8): 18,\n",
       "         (2, 87): 1,\n",
       "         (1, 48): 3,\n",
       "         (1, 40): 12,\n",
       "         (1, 255): 2,\n",
       "         (11, 5): 14,\n",
       "         (5, 3): 102,\n",
       "         (1, 219): 2,\n",
       "         (1, 13): 53,\n",
       "         (1, 65): 3,\n",
       "         (1, 290): 1,\n",
       "         (4, 54): 2,\n",
       "         (1, 186): 1,\n",
       "         (17, 20): 1,\n",
       "         (0, 5): 50,\n",
       "         (1, 176): 1,\n",
       "         (4, 5): 59,\n",
       "         (1, 252): 1,\n",
       "         (1, 39): 14,\n",
       "         (4, 2): 234,\n",
       "         (1, 11): 67,\n",
       "         (2, 2): 377,\n",
       "         (5, 9): 17,\n",
       "         (4, 3): 127,\n",
       "         (1, 180): 1,\n",
       "         (2, 14): 26,\n",
       "         (4, 11): 11,\n",
       "         (2, 27): 5,\n",
       "         (1, 78): 1,\n",
       "         (2, 82): 2,\n",
       "         (1, 16): 30,\n",
       "         (1, 45): 9,\n",
       "         (2, 66): 2,\n",
       "         (1, 190): 3,\n",
       "         (1, 33): 5,\n",
       "         (1, 6): 170,\n",
       "         (5, 13): 7,\n",
       "         (3, 1): 808,\n",
       "         (1, 50): 3,\n",
       "         (1, 9): 116,\n",
       "         (4, 6): 40,\n",
       "         (1, 14): 69,\n",
       "         (1, 15): 50,\n",
       "         (2, 95): 1,\n",
       "         (2, 277): 1,\n",
       "         (1, 187): 2,\n",
       "         (1, 209): 1,\n",
       "         (2, 4): 174,\n",
       "         (2, 5): 124,\n",
       "         (5, 4): 66,\n",
       "         (20, 5): 1,\n",
       "         (3, 2): 301,\n",
       "         (2, 41): 3,\n",
       "         (2, 28): 6,\n",
       "         (1, 59): 6,\n",
       "         (1, 281): 1,\n",
       "         (3, 3): 201,\n",
       "         (11, 18): 1,\n",
       "         (1, 60): 7,\n",
       "         (8, 2): 53,\n",
       "         (14, 9): 3,\n",
       "         (8, 6): 10,\n",
       "         (5, 10): 14,\n",
       "         (6, 5): 40,\n",
       "         (2, 10): 42,\n",
       "         (1, 313): 2,\n",
       "         (10, 18): 1,\n",
       "         (1, 93): 3,\n",
       "         (3, 12): 14,\n",
       "         (2, 63): 3,\n",
       "         (4, 13): 5,\n",
       "         (9, 4): 21,\n",
       "         (9, 10): 6,\n",
       "         (1, 12): 49,\n",
       "         (6, 3): 112,\n",
       "         (5, 17): 3,\n",
       "         (1, 56): 3,\n",
       "         (1, 17): 45,\n",
       "         (4, 8): 21,\n",
       "         (1, 361): 1,\n",
       "         (1, 272): 1,\n",
       "         (3, 21): 5,\n",
       "         (22, 12): 1,\n",
       "         (1, 34): 13,\n",
       "         (18, 11): 1,\n",
       "         (4, 32): 3,\n",
       "         (19, 13): 2,\n",
       "         (13, 37): 1,\n",
       "         (10, 8): 8,\n",
       "         (6, 12): 9,\n",
       "         (3, 26): 2,\n",
       "         (1, 373): 1,\n",
       "         (10, 9): 6,\n",
       "         (3, 4): 128,\n",
       "         (15, 8): 3,\n",
       "         (1, 85): 2,\n",
       "         (1, 53): 13,\n",
       "         (5, 7): 27,\n",
       "         (2, 21): 4,\n",
       "         (4, 9): 13,\n",
       "         (1, 135): 1,\n",
       "         (2, 26): 8,\n",
       "         (1, 1): 1780,\n",
       "         (1, 236): 1,\n",
       "         (2, 272): 1,\n",
       "         (13, 22): 1,\n",
       "         (9, 9): 8,\n",
       "         (1, 4): 309,\n",
       "         (1, 299): 1,\n",
       "         (2, 55): 2,\n",
       "         (1, 214): 1,\n",
       "         (8, 3): 44,\n",
       "         (8, 4): 34,\n",
       "         (4, 4): 96,\n",
       "         (1, 192): 1,\n",
       "         (1, 23): 32,\n",
       "         (1, 25): 27,\n",
       "         (2, 13): 23,\n",
       "         (3, 115): 1,\n",
       "         (1, 106): 1,\n",
       "         (1, 36): 19,\n",
       "         (1, 69): 1,\n",
       "         (1, 98): 1,\n",
       "         (1, 113): 3,\n",
       "         (3, 7): 45,\n",
       "         (8, 5): 23,\n",
       "         (2, 29): 7,\n",
       "         (1, 42): 9,\n",
       "         (1, 87): 3,\n",
       "         (1, 130): 1,\n",
       "         (1, 8): 121,\n",
       "         (2, 61): 2,\n",
       "         (4, 46): 2,\n",
       "         (0, 20): 2,\n",
       "         (1, 204): 1,\n",
       "         (0, 16): 2,\n",
       "         (1, 76): 2,\n",
       "         (1, 28): 15,\n",
       "         (0, 11): 3,\n",
       "         (2, 90): 1,\n",
       "         (6, 1): 327,\n",
       "         (1, 319): 1,\n",
       "         (20, 8): 1,\n",
       "         (7, 6): 18,\n",
       "         (1, 266): 1,\n",
       "         (9, 12): 3,\n",
       "         (1, 18): 37,\n",
       "         (2, 12): 22,\n",
       "         (1, 96): 1,\n",
       "         (7, 2): 85,\n",
       "         (21, 3): 3,\n",
       "         (8, 1): 109,\n",
       "         (1, 31): 12,\n",
       "         (4, 15): 5,\n",
       "         (10, 5): 5,\n",
       "         (1, 32): 11,\n",
       "         (3, 16): 8,\n",
       "         (9, 8): 11,\n",
       "         (1, 20): 39,\n",
       "         (2, 8): 60,\n",
       "         (1, 410): 1,\n",
       "         (5, 20): 2,\n",
       "         (5, 2): 203,\n",
       "         (1, 230): 2,\n",
       "         (5, 6): 31,\n",
       "         (2, 178): 1,\n",
       "         (1, 146): 2,\n",
       "         (14, 20): 3,\n",
       "         (5, 5): 48,\n",
       "         (1, 231): 1,\n",
       "         (2, 78): 2,\n",
       "         (1, 30): 18,\n",
       "         (1, 305): 1,\n",
       "         (1, 119): 1,\n",
       "         (3, 51): 1,\n",
       "         (0, 7): 22,\n",
       "         (12, 14): 3,\n",
       "         (1, 75): 3,\n",
       "         (3, 15): 13,\n",
       "         (3, 88): 1,\n",
       "         (1, 94): 3,\n",
       "         (4, 22): 6,\n",
       "         (1, 102): 2,\n",
       "         (1, 67): 3,\n",
       "         (3, 6): 52,\n",
       "         (1, 126): 1,\n",
       "         (2, 286): 1,\n",
       "         (2, 42): 4,\n",
       "         (13, 45): 1,\n",
       "         (2, 23): 5,\n",
       "         (1, 118): 2,\n",
       "         (9, 29): 1,\n",
       "         (1, 73): 2,\n",
       "         (1, 137): 1,\n",
       "         (4, 299): 1,\n",
       "         (1, 63): 2,\n",
       "         (1, 26): 25,\n",
       "         (1, 172): 2,\n",
       "         (0, 9): 13,\n",
       "         (2, 30): 10,\n",
       "         (3, 34): 4,\n",
       "         (1, 52): 4,\n",
       "         (11, 1): 51,\n",
       "         (1, 47): 5,\n",
       "         (5, 1): 591,\n",
       "         (3, 57): 1,\n",
       "         (0, 4): 119,\n",
       "         (4, 16): 8,\n",
       "         (2, 32): 5,\n",
       "         (1, 157): 1,\n",
       "         (0, 8): 16,\n",
       "         (5, 12): 12,\n",
       "         (6, 31): 1,\n",
       "         (0, 10): 8,\n",
       "         (8, 23): 3,\n",
       "         (2, 25): 10,\n",
       "         (10, 7): 14,\n",
       "         (3, 11): 11,\n",
       "         (2, 72): 1,\n",
       "         (2, 31): 3,\n",
       "         (1, 167): 1,\n",
       "         (1, 334): 1,\n",
       "         (1, 133): 2,\n",
       "         (3, 14): 14,\n",
       "         (7, 16): 2,\n",
       "         (1, 139): 1,\n",
       "         (9, 31): 1,\n",
       "         (7, 12): 7,\n",
       "         (9, 1): 134,\n",
       "         (12, 6): 8,\n",
       "         (3, 17): 4,\n",
       "         (8, 10): 6,\n",
       "         (6, 35): 1,\n",
       "         (4, 1): 612,\n",
       "         (13, 18): 1,\n",
       "         (15, 7): 1,\n",
       "         (1, 145): 1,\n",
       "         (10, 2): 42,\n",
       "         (7, 7): 10,\n",
       "         (4, 7): 24,\n",
       "         (1, 80): 2,\n",
       "         (1, 336): 1,\n",
       "         (2, 71): 1,\n",
       "         (12, 7): 5,\n",
       "         (11, 11): 2,\n",
       "         (1, 66): 3,\n",
       "         (1, 189): 1,\n",
       "         (4, 53): 1,\n",
       "         (12, 5): 8,\n",
       "         (6, 15): 2,\n",
       "         (1, 43): 4,\n",
       "         (3, 27): 3,\n",
       "         (5, 27): 1,\n",
       "         (3, 13): 16,\n",
       "         (2, 15): 14,\n",
       "         (14, 12): 3,\n",
       "         (1, 81): 3,\n",
       "         (2, 18): 12,\n",
       "         (6, 4): 45,\n",
       "         (8, 9): 8,\n",
       "         (16, 7): 2,\n",
       "         (16, 9): 3,\n",
       "         (6, 10): 8,\n",
       "         (3, 9): 43,\n",
       "         (16, 8): 3,\n",
       "         (1, 51): 5,\n",
       "         (4, 30): 5,\n",
       "         (1, 109): 1,\n",
       "         (8, 41): 1,\n",
       "         (4, 10): 14,\n",
       "         (19, 21): 1,\n",
       "         (20, 15): 1,\n",
       "         (11, 4): 13,\n",
       "         (24, 20): 1,\n",
       "         (7, 11): 7,\n",
       "         (4, 31): 1,\n",
       "         (4, 12): 9,\n",
       "         (0, 6): 30,\n",
       "         (2, 50): 3,\n",
       "         (4, 18): 3,\n",
       "         (1, 72): 4,\n",
       "         (7, 3): 63,\n",
       "         (11, 3): 11,\n",
       "         (1, 88): 3,\n",
       "         (1, 90): 1,\n",
       "         (1, 112): 1,\n",
       "         (10, 3): 23,\n",
       "         (3, 38): 1,\n",
       "         (2, 57): 1,\n",
       "         (1, 77): 2,\n",
       "         (2, 74): 1,\n",
       "         (1, 268): 1,\n",
       "         (9, 5): 18,\n",
       "         (3, 35): 1,\n",
       "         (4, 74): 1,\n",
       "         (4, 21): 6,\n",
       "         (3, 72): 1,\n",
       "         (2, 54): 2,\n",
       "         (7, 30): 1,\n",
       "         (1, 105): 2,\n",
       "         (6, 16): 4,\n",
       "         (1, 55): 3,\n",
       "         (2, 19): 6,\n",
       "         (6, 8): 13,\n",
       "         (1, 120): 1,\n",
       "         (3, 29): 3,\n",
       "         (1, 83): 1,\n",
       "         (1, 57): 1,\n",
       "         (0, 12): 7,\n",
       "         (0, 60): 1,\n",
       "         (9, 38): 1,\n",
       "         (5, 16): 6,\n",
       "         (2, 22): 9,\n",
       "         (6, 36): 1,\n",
       "         (1, 161): 1,\n",
       "         (22, 4): 1,\n",
       "         (17, 1): 10,\n",
       "         (6, 2): 137,\n",
       "         (2, 16): 18,\n",
       "         (22, 7): 2,\n",
       "         (6, 45): 1,\n",
       "         (1, 116): 1,\n",
       "         (13, 4): 7,\n",
       "         (1, 21): 34,\n",
       "         (2, 7): 79,\n",
       "         (24, 60): 1,\n",
       "         (1, 148): 2,\n",
       "         (3, 23): 3,\n",
       "         (11, 7): 6,\n",
       "         (1, 38): 5,\n",
       "         (1, 296): 1,\n",
       "         (1, 27): 19,\n",
       "         (2, 47): 2,\n",
       "         (3, 5): 87,\n",
       "         (1, 143): 1,\n",
       "         (1, 117): 1,\n",
       "         (4, 14): 11,\n",
       "         (9, 14): 4,\n",
       "         (10, 17): 2,\n",
       "         (3, 20): 9,\n",
       "         (8, 20): 1,\n",
       "         (2, 33): 3,\n",
       "         (14, 10): 4,\n",
       "         (12, 19): 1,\n",
       "         (3, 22): 2,\n",
       "         (7, 4): 49,\n",
       "         (5, 23): 2,\n",
       "         (3, 28): 3,\n",
       "         (1, 86): 2,\n",
       "         (1, 121): 1,\n",
       "         (1, 110): 1,\n",
       "         (2, 86): 1,\n",
       "         (1, 46): 3,\n",
       "         (3, 80): 1,\n",
       "         (8, 16): 2,\n",
       "         (9, 3): 27,\n",
       "         (7, 8): 8,\n",
       "         (34, 24): 1,\n",
       "         (1, 103): 3,\n",
       "         (12, 3): 10,\n",
       "         (1, 58): 5,\n",
       "         (9, 6): 20,\n",
       "         (1, 144): 1,\n",
       "         (5, 22): 1,\n",
       "         (15, 6): 2,\n",
       "         (16, 1): 14,\n",
       "         (16, 3): 3,\n",
       "         (3, 30): 1,\n",
       "         (6, 13): 7,\n",
       "         (3, 24): 5,\n",
       "         (11, 2): 14,\n",
       "         (18, 4): 4,\n",
       "         (3, 8): 29,\n",
       "         (10, 26): 1,\n",
       "         (3, 176): 1,\n",
       "         (5, 11): 9,\n",
       "         (1, 74): 2,\n",
       "         (13, 9): 6,\n",
       "         (7, 17): 2,\n",
       "         (6, 17): 2,\n",
       "         (6, 6): 22,\n",
       "         (1, 129): 1,\n",
       "         (7, 10): 3,\n",
       "         (7, 68): 1,\n",
       "         (13, 8): 2,\n",
       "         (25, 7): 1,\n",
       "         (7, 1): 167,\n",
       "         (2, 81): 2,\n",
       "         (5, 14): 4,\n",
       "         (15, 29): 1,\n",
       "         (5, 42): 1,\n",
       "         (3, 31): 2,\n",
       "         (3, 69): 1,\n",
       "         (36, 1): 2,\n",
       "         (19, 2): 4,\n",
       "         (37, 4): 1,\n",
       "         (6, 20): 1,\n",
       "         (15, 3): 3,\n",
       "         (12, 8): 5,\n",
       "         (9, 2): 66,\n",
       "         (4, 24): 1,\n",
       "         (1, 108): 1,\n",
       "         (4, 20): 2,\n",
       "         (2, 43): 1,\n",
       "         (10, 27): 1,\n",
       "         (1, 95): 1,\n",
       "         (8, 12): 4,\n",
       "         (6, 9): 7,\n",
       "         (3, 19): 5,\n",
       "         (7, 13): 6,\n",
       "         (2, 104): 1,\n",
       "         (10, 13): 1,\n",
       "         (2, 65): 2,\n",
       "         (1, 150): 1,\n",
       "         (1, 183): 1,\n",
       "         (3, 44): 1,\n",
       "         (2, 39): 2,\n",
       "         (12, 9): 3,\n",
       "         (1, 70): 2,\n",
       "         (12, 2): 35,\n",
       "         (15, 12): 2,\n",
       "         (13, 7): 4,\n",
       "         (15, 11): 1,\n",
       "         (7, 15): 2,\n",
       "         (18, 12): 1,\n",
       "         (6, 19): 3,\n",
       "         (1, 104): 1,\n",
       "         (15, 50): 1,\n",
       "         (16, 5): 1,\n",
       "         (11, 12): 1,\n",
       "         (6, 42): 1,\n",
       "         (2, 51): 1,\n",
       "         (8, 8): 9,\n",
       "         (2, 38): 2,\n",
       "         (13, 1): 17,\n",
       "         (18, 7): 1,\n",
       "         (2, 35): 1,\n",
       "         (7, 9): 7,\n",
       "         (2, 24): 8,\n",
       "         (9, 39): 1,\n",
       "         (1, 41): 4,\n",
       "         (5, 59): 1,\n",
       "         (4, 29): 2,\n",
       "         (4, 33): 1,\n",
       "         (0, 28): 1,\n",
       "         (3, 56): 1,\n",
       "         (3, 67): 1,\n",
       "         (32, 3): 4,\n",
       "         (14, 1): 23,\n",
       "         (15, 4): 10,\n",
       "         (9, 18): 2,\n",
       "         (2, 48): 2,\n",
       "         (12, 33): 2,\n",
       "         (9, 16): 2,\n",
       "         (13, 21): 1,\n",
       "         (10, 4): 15,\n",
       "         (11, 8): 5,\n",
       "         (12, 13): 4,\n",
       "         (7, 25): 1,\n",
       "         (6, 38): 1,\n",
       "         (9, 13): 2,\n",
       "         (2, 40): 2,\n",
       "         (3, 18): 5,\n",
       "         (10, 6): 7,\n",
       "         (8, 26): 1,\n",
       "         (5, 19): 3,\n",
       "         (6, 14): 4,\n",
       "         (9, 7): 12,\n",
       "         (15, 16): 1,\n",
       "         (7, 34): 1,\n",
       "         (9, 17): 3,\n",
       "         (19, 12): 1,\n",
       "         (2, 20): 5,\n",
       "         (11, 9): 2,\n",
       "         (10, 22): 1,\n",
       "         (10, 23): 1,\n",
       "         (17, 7): 4,\n",
       "         (8, 11): 4,\n",
       "         (21, 20): 1,\n",
       "         (13, 2): 16,\n",
       "         (6, 7): 24,\n",
       "         (19, 40): 1,\n",
       "         (9, 33): 1,\n",
       "         (6, 32): 1,\n",
       "         (11, 32): 1,\n",
       "         (8, 14): 5,\n",
       "         (11, 28): 1,\n",
       "         (13, 5): 5,\n",
       "         (7, 18): 1,\n",
       "         (13, 14): 1,\n",
       "         (14, 3): 12,\n",
       "         (16, 21): 1,\n",
       "         (4, 17): 4,\n",
       "         (16, 2): 6,\n",
       "         (4, 43): 2,\n",
       "         (0, 15): 1,\n",
       "         (10, 20): 1,\n",
       "         (10, 1): 43,\n",
       "         (4, 19): 2,\n",
       "         (4, 39): 1,\n",
       "         (28, 6): 1,\n",
       "         (14, 8): 1,\n",
       "         (14, 11): 3,\n",
       "         (12, 4): 8,\n",
       "         (1, 132): 2,\n",
       "         (9, 11): 4,\n",
       "         (1, 79): 1,\n",
       "         (1, 64): 1,\n",
       "         (9, 15): 2,\n",
       "         (10, 12): 2,\n",
       "         (14, 5): 7,\n",
       "         (11, 15): 2,\n",
       "         (10, 25): 1,\n",
       "         (2, 37): 2,\n",
       "         (13, 3): 9,\n",
       "         (6, 11): 6,\n",
       "         (13, 6): 3,\n",
       "         (5, 43): 1,\n",
       "         (0, 23): 2,\n",
       "         (1, 155): 1,\n",
       "         (19, 8): 2,\n",
       "         (3, 46): 1,\n",
       "         (0, 14): 3,\n",
       "         (14, 78): 1,\n",
       "         (1, 164): 1,\n",
       "         (5, 21): 3,\n",
       "         (3, 25): 2,\n",
       "         (6, 21): 1,\n",
       "         (15, 5): 5,\n",
       "         (8, 7): 6,\n",
       "         (0, 17): 2,\n",
       "         (0, 13): 3,\n",
       "         (2, 62): 1,\n",
       "         (1, 254): 1,\n",
       "         (17, 12): 1,\n",
       "         (13, 16): 1,\n",
       "         (11, 6): 4,\n",
       "         (17, 13): 1,\n",
       "         (2, 64): 1,\n",
       "         (22, 10): 1,\n",
       "         (8, 18): 2,\n",
       "         (5, 15): 4,\n",
       "         (19, 7): 2,\n",
       "         (7, 20): 1,\n",
       "         (8, 33): 1,\n",
       "         (19, 10): 1,\n",
       "         (8, 13): 1,\n",
       "         (1, 123): 1,\n",
       "         (12, 12): 1,\n",
       "         (13, 15): 1,\n",
       "         (4, 25): 2,\n",
       "         (8, 19): 2,\n",
       "         (27, 2): 3,\n",
       "         (27, 1): 4,\n",
       "         (3, 33): 1,\n",
       "         (13, 11): 1,\n",
       "         (18, 16): 1,\n",
       "         (17, 3): 1,\n",
       "         (12, 11): 1,\n",
       "         (3, 39): 1,\n",
       "         (14, 4): 3,\n",
       "         (5, 18): 4,\n",
       "         (24, 12): 1,\n",
       "         (1, 134): 1,\n",
       "         (15, 10): 1,\n",
       "         (10, 14): 1,\n",
       "         (19, 18): 2,\n",
       "         (7, 21): 1,\n",
       "         (5, 25): 2,\n",
       "         (21, 18): 1,\n",
       "         (18, 9): 1,\n",
       "         (17, 9): 1,\n",
       "         (14, 2): 9,\n",
       "         (17, 5): 2,\n",
       "         (1, 179): 1,\n",
       "         (10, 11): 4,\n",
       "         (19, 6): 1,\n",
       "         (13, 10): 4,\n",
       "         (12, 15): 1,\n",
       "         (12, 1): 63,\n",
       "         (28, 8): 1,\n",
       "         (15, 2): 8,\n",
       "         (21, 5): 1,\n",
       "         (21, 10): 1,\n",
       "         (10, 16): 1,\n",
       "         (11, 23): 1,\n",
       "         (1, 501): 1,\n",
       "         (5, 32): 1,\n",
       "         (1, 413): 1,\n",
       "         (11, 14): 1,\n",
       "         (17, 2): 7,\n",
       "         (22, 19): 1,\n",
       "         (4, 38): 1,\n",
       "         (10, 10): 1,\n",
       "         (3, 47): 1,\n",
       "         (1, 84): 1,\n",
       "         (17, 4): 2,\n",
       "         (11, 10): 1,\n",
       "         (34, 5): 1,\n",
       "         (8, 15): 1,\n",
       "         (2, 36): 1,\n",
       "         (23, 1): 2,\n",
       "         (26, 5): 1,\n",
       "         (25, 3): 1,\n",
       "         (20, 4): 2,\n",
       "         (16, 4): 2,\n",
       "         (20, 12): 1,\n",
       "         (1, 101): 1,\n",
       "         (2, 45): 1,\n",
       "         (18, 3): 2,\n",
       "         (3, 36): 2,\n",
       "         (20, 6): 1,\n",
       "         (6, 149): 1,\n",
       "         (9, 42): 1,\n",
       "         (22, 5): 1,\n",
       "         (33, 3): 2,\n",
       "         (6, 27): 1,\n",
       "         (3, 99): 1,\n",
       "         (18, 2): 2,\n",
       "         (20, 2): 2,\n",
       "         (18, 1): 10,\n",
       "         (19, 4): 3,\n",
       "         (4, 72): 1,\n",
       "         (24, 4): 1,\n",
       "         (27, 8): 1,\n",
       "         (15, 1): 12,\n",
       "         (18, 8): 1,\n",
       "         (19, 5): 1,\n",
       "         (2, 100): 1,\n",
       "         (2, 123): 1,\n",
       "         (10, 28): 1,\n",
       "         (21, 1): 1,\n",
       "         (21, 2): 2,\n",
       "         (20, 3): 2,\n",
       "         (1, 131): 1,\n",
       "         (23, 4): 1,\n",
       "         (22, 1): 6,\n",
       "         (22, 2): 1,\n",
       "         (17, 11): 1,\n",
       "         (10, 19): 1,\n",
       "         (1, 111): 1,\n",
       "         (19, 1): 1,\n",
       "         (3, 61): 1,\n",
       "         (5, 31): 1,\n",
       "         (18, 5): 1,\n",
       "         (1, 241): 2,\n",
       "         (1, 89): 1,\n",
       "         (22, 3): 1,\n",
       "         (3, 259): 1,\n",
       "         (1, 49): 1,\n",
       "         (7, 14): 1,\n",
       "         (1, 168): 1,\n",
       "         (8, 37): 1,\n",
       "         (41, 3): 1,\n",
       "         (15, 15): 1,\n",
       "         (18, 13): 1,\n",
       "         (29, 1): 1,\n",
       "         (2, 83): 1,\n",
       "         (32, 1): 11,\n",
       "         (7, 29): 1,\n",
       "         (41, 1): 3,\n",
       "         (5, 40): 1,\n",
       "         (2, 44): 1,\n",
       "         (6, 118): 1,\n",
       "         (1, 174): 1,\n",
       "         (24, 7): 1,\n",
       "         (1, 228): 1,\n",
       "         (2, 68): 2,\n",
       "         (22, 6): 1,\n",
       "         (1, 316): 1,\n",
       "         (6, 29): 1})"
      ]
     },
     "execution_count": 157,
     "metadata": {},
     "output_type": "execute_result"
    }
   ],
   "source": [
    "modality_cases_counts"
   ]
  },
  {
   "cell_type": "code",
   "execution_count": 142,
   "id": "b3f99db0-fb94-40a4-a341-c01552223ae1",
   "metadata": {},
   "outputs": [],
   "source": [
    "unique_modalities = np.unique([v[0] for v in adv_count_modality.values()])"
   ]
  },
  {
   "cell_type": "code",
   "execution_count": 182,
   "id": "cab147d8-0dec-4e08-99c1-c078c4016e8b",
   "metadata": {},
   "outputs": [
    {
     "data": {
      "text/plain": [
       "36"
      ]
     },
     "execution_count": 182,
     "metadata": {},
     "output_type": "execute_result"
    }
   ],
   "source": [
    "len(unique_modalities)"
   ]
  },
  {
   "cell_type": "code",
   "execution_count": 145,
   "id": "dc802e22-7c56-4db5-a1a6-efa04adf387c",
   "metadata": {},
   "outputs": [],
   "source": [
    "unique_case_counts = np.unique([v[1] for v in adv_count_modality.values()])"
   ]
  },
  {
   "cell_type": "code",
   "execution_count": 146,
   "id": "cc7a641d-4454-4c6f-9b2d-5ddc5b8f1789",
   "metadata": {},
   "outputs": [
    {
     "data": {
      "text/plain": [
       "192"
      ]
     },
     "execution_count": 146,
     "metadata": {},
     "output_type": "execute_result"
    }
   ],
   "source": [
    "len(unique_case_counts)"
   ]
  },
  {
   "cell_type": "code",
   "execution_count": 165,
   "id": "f078e1a1-51f1-4f5f-858c-761b2eb11900",
   "metadata": {},
   "outputs": [
    {
     "data": {
      "text/plain": [
       "501"
      ]
     },
     "execution_count": 165,
     "metadata": {},
     "output_type": "execute_result"
    }
   ],
   "source": [
    "max(unique_case_counts)"
   ]
  },
  {
   "cell_type": "code",
   "execution_count": 189,
   "id": "c237c399-21a5-4721-aea4-62fb85449295",
   "metadata": {},
   "outputs": [],
   "source": [
    "counts = np.zeros((max(unique_modalities)+1, max(unique_case_counts)+1))"
   ]
  },
  {
   "cell_type": "code",
   "execution_count": 190,
   "id": "5302405b-7abb-4094-949c-3d296be5f7a3",
   "metadata": {},
   "outputs": [
    {
     "data": {
      "text/plain": [
       "(42, 502)"
      ]
     },
     "execution_count": 190,
     "metadata": {},
     "output_type": "execute_result"
    }
   ],
   "source": [
    "counts.shape"
   ]
  },
  {
   "cell_type": "code",
   "execution_count": 191,
   "id": "13f826f9-5a14-4169-8638-7e7078a9760d",
   "metadata": {},
   "outputs": [],
   "source": [
    "for k, v in modality_cases_counts.items():\n",
    "    counts[k[0],k[1]] = v"
   ]
  },
  {
   "cell_type": "code",
   "execution_count": 192,
   "id": "221ec7ed-70bb-4af9-b79c-1bdd169ef131",
   "metadata": {},
   "outputs": [],
   "source": [
    "idx_col = np.argwhere(np.all(counts[..., :] == 0, axis=0))"
   ]
  },
  {
   "cell_type": "code",
   "execution_count": 193,
   "id": "3e4096df-ac9e-4732-a3e6-fb9364ab4d4d",
   "metadata": {},
   "outputs": [],
   "source": [
    "counts = np.delete(counts, idx_col, axis=1)"
   ]
  },
  {
   "cell_type": "code",
   "execution_count": 194,
   "id": "aae97627-94f1-48e2-98fd-c2ea15777955",
   "metadata": {},
   "outputs": [],
   "source": [
    "idx_row = np.argwhere(np.all(counts[:, ...] == 0, axis=1))"
   ]
  },
  {
   "cell_type": "code",
   "execution_count": 195,
   "id": "d288aaca-5000-4296-90d4-bc49e4c81c4b",
   "metadata": {},
   "outputs": [],
   "source": [
    "counts = np.delete(counts, idx_row, axis=0)"
   ]
  },
  {
   "cell_type": "code",
   "execution_count": 196,
   "id": "e45305bd-f5a8-40f6-8f22-970a6076ba8a",
   "metadata": {},
   "outputs": [
    {
     "data": {
      "text/plain": [
       "(36, 192)"
      ]
     },
     "execution_count": 196,
     "metadata": {},
     "output_type": "execute_result"
    }
   ],
   "source": [
    "counts.shape"
   ]
  },
  {
   "cell_type": "code",
   "execution_count": 209,
   "id": "e7d78eaa-e5aa-4520-bc61-2f121426be15",
   "metadata": {},
   "outputs": [
    {
     "data": {
      "text/plain": [
       "0.575540768431439"
      ]
     },
     "execution_count": 209,
     "metadata": {},
     "output_type": "execute_result"
    }
   ],
   "source": [
    "chi2 = stats.chi2_contingency(counts, correction=False)[0]\n",
    "sample_size = np.sum(counts)\n",
    "min_dim = min(cont_arr.shape) - 1\n",
    "min_dim = min_dim - min_dim**2/(sample_size - 1)\n",
    "cramer_v = np.sqrt((chi2 / sample_size) / min_dim)\n",
    "\n",
    "cramer_v"
   ]
  },
  {
   "cell_type": "code",
   "execution_count": 202,
   "id": "af0d0fe6-6a69-43bc-93d2-0663db997e6b",
   "metadata": {},
   "outputs": [],
   "source": [
    "df = pd.DataFrame([[k[0], k[1]] for k in adv_count_modality.values()], columns = [\"Modality\", \"Number of Cases\"])"
   ]
  },
  {
   "cell_type": "code",
   "execution_count": 203,
   "id": "c7a341e1-424d-41ba-b989-20efbe9ceff5",
   "metadata": {},
   "outputs": [
    {
     "data": {
      "text/plain": [
       "21531"
      ]
     },
     "execution_count": 203,
     "metadata": {},
     "output_type": "execute_result"
    }
   ],
   "source": [
    "len(df)"
   ]
  },
  {
   "cell_type": "code",
   "execution_count": 218,
   "id": "ea6faf3a-07b1-4e3e-8437-1c1be1710dc2",
   "metadata": {},
   "outputs": [],
   "source": [
    "spearman = df.corr(method=\"spearman\")[\"Modality\"].iloc[1]"
   ]
  },
  {
   "cell_type": "code",
   "execution_count": 219,
   "id": "3f1de41d-5b90-4a50-946d-4a77a9b44206",
   "metadata": {},
   "outputs": [
    {
     "data": {
      "text/plain": [
       "0.27297649794767903"
      ]
     },
     "execution_count": 219,
     "metadata": {},
     "output_type": "execute_result"
    }
   ],
   "source": [
    "spearman"
   ]
  },
  {
   "cell_type": "markdown",
   "id": "3befd849-05ce-4a6f-ba02-bdbf9daccc84",
   "metadata": {},
   "source": [
    "## For the used dataset"
   ]
  },
  {
   "cell_type": "code",
   "execution_count": 220,
   "id": "90755559-6e4f-4ce7-bdd6-e0ca436f6738",
   "metadata": {},
   "outputs": [],
   "source": [
    "adv_cases_path = \"/home/workboots/Datasets/DHC/variations/new/var_1/adv_info/adv_cases.json\"\n",
    "case_chapters_path = \"/home/workboots/Datasets/DHC/variations/new/var_1/targets/case_chapters.json\""
   ]
  },
  {
   "cell_type": "code",
   "execution_count": 221,
   "id": "fed90ecd-1c16-4511-bce8-658797a4c26f",
   "metadata": {},
   "outputs": [],
   "source": [
    "with open(adv_cases_path, 'r') as f:\n",
    "    adv_cases = json.load(f)"
   ]
  },
  {
   "cell_type": "code",
   "execution_count": 222,
   "id": "e3a5e918-074d-4624-a969-14a7cde6b4ce",
   "metadata": {},
   "outputs": [],
   "source": [
    "with open(case_chapters_path, 'r') as f:\n",
    "    case_chapters = json.load(f)"
   ]
  },
  {
   "cell_type": "code",
   "execution_count": 223,
   "id": "c40aee5e-c1f1-4144-a0e8-eb23692362dd",
   "metadata": {},
   "outputs": [],
   "source": [
    "adv_charges = defaultdict(list)"
   ]
  },
  {
   "cell_type": "code",
   "execution_count": 224,
   "id": "52edba83-6d90-4bc8-af3f-96060d58c4d2",
   "metadata": {},
   "outputs": [],
   "source": [
    "for adv, cases in adv_cases.items():\n",
    "    adv_charges[adv].extend(chain.from_iterable([case_chapters.get(case, []) for case in cases]))"
   ]
  },
  {
   "cell_type": "code",
   "execution_count": 225,
   "id": "66600875-9779-4d6c-9d63-8953196d24f9",
   "metadata": {},
   "outputs": [],
   "source": [
    "adv_case_counts = {k: len(v) for k, v in adv_cases.items()}"
   ]
  },
  {
   "cell_type": "code",
   "execution_count": 226,
   "id": "3d9daa20-417e-41f4-9287-9f290c3efa10",
   "metadata": {},
   "outputs": [],
   "source": [
    "adv_modality = {k: len(statistics.multimode(v)) for k, v in adv_charges.items()}"
   ]
  },
  {
   "cell_type": "code",
   "execution_count": 228,
   "id": "86c3b292-49db-4ea9-8511-354d7741db4c",
   "metadata": {},
   "outputs": [],
   "source": [
    "adv_count_modality = {k: (adv_modality[k], adv_case_counts[k]) for k in adv_modality}"
   ]
  },
  {
   "cell_type": "code",
   "execution_count": 229,
   "id": "0d4ddfff-fedc-48da-a8c9-ad4ed4751822",
   "metadata": {},
   "outputs": [],
   "source": [
    "modality_cases_counts = Counter(adv_count_modality.values())"
   ]
  },
  {
   "cell_type": "code",
   "execution_count": 230,
   "id": "a7c1a4a1-d674-49d8-8868-ed1641a0f3cb",
   "metadata": {},
   "outputs": [],
   "source": [
    "unique_modalities = np.unique([v[0] for v in adv_count_modality.values()])"
   ]
  },
  {
   "cell_type": "code",
   "execution_count": 231,
   "id": "bb2fbdad-4695-40a4-aaf7-b5dc866341ba",
   "metadata": {},
   "outputs": [],
   "source": [
    "unique_case_counts = np.unique([v[1] for v in adv_count_modality.values()])"
   ]
  },
  {
   "cell_type": "code",
   "execution_count": 232,
   "id": "7c2096b1-e2eb-4c4a-840d-4b9eb1f0dee0",
   "metadata": {},
   "outputs": [],
   "source": [
    "counts = np.zeros((max(unique_modalities)+1, max(unique_case_counts)+1))"
   ]
  },
  {
   "cell_type": "code",
   "execution_count": 233,
   "id": "15d3f8dd-e25f-496d-bb19-db6b31b70ac6",
   "metadata": {},
   "outputs": [],
   "source": [
    "for k, v in modality_cases_counts.items():\n",
    "    counts[k[0],k[1]] = v"
   ]
  },
  {
   "cell_type": "code",
   "execution_count": 234,
   "id": "712f88a3-d80a-459e-bc7b-b6a16fa7a91d",
   "metadata": {},
   "outputs": [],
   "source": [
    "idx_col = np.argwhere(np.all(counts[..., :] == 0, axis=0))"
   ]
  },
  {
   "cell_type": "code",
   "execution_count": 235,
   "id": "76ad31f0-3e1d-4377-828c-3cc8877f5a69",
   "metadata": {},
   "outputs": [],
   "source": [
    "counts = np.delete(counts, idx_col, axis=1)"
   ]
  },
  {
   "cell_type": "code",
   "execution_count": 236,
   "id": "63807f87-2beb-4df2-aabe-99a98d17104b",
   "metadata": {},
   "outputs": [],
   "source": [
    "idx_row = np.argwhere(np.all(counts[:, ...] == 0, axis=1))"
   ]
  },
  {
   "cell_type": "code",
   "execution_count": 237,
   "id": "6688a4f3-bd1f-4de0-8d1b-e95e728b153f",
   "metadata": {},
   "outputs": [],
   "source": [
    "counts = np.delete(counts, idx_row, axis=0)"
   ]
  },
  {
   "cell_type": "code",
   "execution_count": 238,
   "id": "97ea0a76-251c-4d19-b445-c8e3d7226617",
   "metadata": {},
   "outputs": [
    {
     "data": {
      "text/plain": [
       "0.6829077318351967"
      ]
     },
     "execution_count": 238,
     "metadata": {},
     "output_type": "execute_result"
    }
   ],
   "source": [
    "chi2 = stats.chi2_contingency(counts, correction=False)[0]\n",
    "sample_size = np.sum(counts)\n",
    "min_dim = min(cont_arr.shape) - 1\n",
    "min_dim = min_dim - min_dim**2/(sample_size - 1)\n",
    "cramer_v = np.sqrt((chi2 / sample_size) / min_dim)\n",
    "\n",
    "cramer_v"
   ]
  },
  {
   "cell_type": "code",
   "execution_count": 239,
   "id": "46b0e78e-37b5-44dd-9844-12f73a0f9791",
   "metadata": {},
   "outputs": [],
   "source": [
    "df = pd.DataFrame([[k[0], k[1]] for k in adv_count_modality.values()], columns = [\"Modality\", \"Number of Cases\"])"
   ]
  },
  {
   "cell_type": "code",
   "execution_count": 240,
   "id": "e72cf787-b136-4e61-8854-d93aad1f92a4",
   "metadata": {},
   "outputs": [],
   "source": [
    "spearman = df.corr(method=\"spearman\")[\"Modality\"].iloc[1]"
   ]
  },
  {
   "cell_type": "code",
   "execution_count": 241,
   "id": "5883de05-522c-4b60-ae74-3681abd4ce7e",
   "metadata": {},
   "outputs": [
    {
     "data": {
      "text/plain": [
       "-0.0454414055987521"
      ]
     },
     "execution_count": 241,
     "metadata": {},
     "output_type": "execute_result"
    }
   ],
   "source": [
    "spearman"
   ]
  },
  {
   "cell_type": "code",
   "execution_count": null,
   "id": "70e395f4-8893-446e-96f8-66e7bd033875",
   "metadata": {},
   "outputs": [],
   "source": []
  }
 ],
 "metadata": {
  "kernelspec": {
   "display_name": "Python 3 (ipykernel)",
   "language": "python",
   "name": "python3"
  },
  "language_info": {
   "codemirror_mode": {
    "name": "ipython",
    "version": 3
   },
   "file_extension": ".py",
   "mimetype": "text/x-python",
   "name": "python",
   "nbconvert_exporter": "python",
   "pygments_lexer": "ipython3",
   "version": "3.10.4"
  }
 },
 "nbformat": 4,
 "nbformat_minor": 5
}
