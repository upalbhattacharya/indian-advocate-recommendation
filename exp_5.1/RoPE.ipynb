{
 "cells": [
  {
   "cell_type": "markdown",
   "id": "17d2f388-38e7-4f9d-8823-a713596d5547",
   "metadata": {},
   "source": [
    "# Implementing RoPE embeddings"
   ]
  },
  {
   "cell_type": "markdown",
   "id": "a3746416-ddd5-4b77-a8cf-c5bcdeb9ac9e",
   "metadata": {},
   "source": [
    "The implementation is based on the pseudo-code given in the work \"Transformer Quality in Linear Time\""
   ]
  },
  {
   "cell_type": "code",
   "execution_count": 2,
   "id": "3b7484b2-86a3-4c29-b85c-88cfd0f9e60e",
   "metadata": {},
   "outputs": [],
   "source": [
    "import torch"
   ]
  },
  {
   "cell_type": "code",
   "execution_count": 1,
   "id": "aa8fbec7-896e-4e04-8fc2-08888b368b78",
   "metadata": {},
   "outputs": [
    {
     "ename": "SyntaxError",
     "evalue": "incomplete input (789153726.py, line 1)",
     "output_type": "error",
     "traceback": [
      "\u001b[0;36m  Input \u001b[0;32mIn [1]\u001b[0;36m\u001b[0m\n\u001b[0;31m    def rope(x, axis=-2):\u001b[0m\n\u001b[0m                         ^\u001b[0m\n\u001b[0;31mSyntaxError\u001b[0m\u001b[0;31m:\u001b[0m incomplete input\n"
     ]
    }
   ],
   "source": [
    "def rope(x, axis=-2):\n",
    "    shape = tuple(x.size())\n",
    "    if isinstance(axis, int):\n",
    "        axis = [axis]\n",
    "        \n",
    "    spatial_shape = [shape[i] for i in axis]\n",
    "    \n",
    "    total_len = 1\n",
    "    for i in spatial_shape:\n",
    "        total_len *= i\n",
    "    position = torch.reshape(torch.arange(total_len, dtype=torch.float32), spatial_shape)\n",
    "    \n",
    "    for i in range(axis[-1] + 1, len(shape) - 1, 1):\n",
    "        position = torch.expand(\n",
    "    "
   ]
  },
  {
   "cell_type": "code",
   "execution_count": null,
   "id": "a514b642-537d-477f-843a-899fe996aeb5",
   "metadata": {},
   "outputs": [],
   "source": []
  }
 ],
 "metadata": {
  "kernelspec": {
   "display_name": "Python 3 (ipykernel)",
   "language": "python",
   "name": "python3"
  },
  "language_info": {
   "codemirror_mode": {
    "name": "ipython",
    "version": 3
   },
   "file_extension": ".py",
   "mimetype": "text/x-python",
   "name": "python",
   "nbconvert_exporter": "python",
   "pygments_lexer": "ipython3",
   "version": "3.10.4"
  }
 },
 "nbformat": 4,
 "nbformat_minor": 5
}
