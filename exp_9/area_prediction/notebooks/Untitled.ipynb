{
 "cells": [
  {
   "cell_type": "code",
   "execution_count": 2,
   "id": "43c3b8f7-0d87-4660-aa2d-fa704841397c",
   "metadata": {},
   "outputs": [],
   "source": [
    "from transformers import AutoTokenizer"
   ]
  },
  {
   "cell_type": "code",
   "execution_count": 8,
   "id": "f4afa6f7-80b8-4b62-a717-5a25f8318c9a",
   "metadata": {},
   "outputs": [],
   "source": [
    "tokenizer = AutoTokenizer.from_pretrained(\"allenai/longformer-base-4096\", truncation_side=\"left\")"
   ]
  },
  {
   "cell_type": "code",
   "execution_count": 9,
   "id": "f389f024-4a16-4e46-bb8d-628ea2b4fa29",
   "metadata": {},
   "outputs": [],
   "source": [
    "sent = \"This is a sentence. What will be truncated?\""
   ]
  },
  {
   "cell_type": "code",
   "execution_count": 10,
   "id": "e8d1362d-ec08-4a4b-8eb5-c78d02132e39",
   "metadata": {},
   "outputs": [
    {
     "data": {
      "text/plain": [
       "['Ġbe', 'Ġtrunc', 'ated', '?']"
      ]
     },
     "execution_count": 10,
     "metadata": {},
     "output_type": "execute_result"
    }
   ],
   "source": [
    "tokenizer.tokenize(sent, truncation=True, max_length=4)"
   ]
  },
  {
   "cell_type": "code",
   "execution_count": null,
   "id": "7a488df4-11cf-4903-9144-41613f4391f8",
   "metadata": {},
   "outputs": [],
   "source": []
  }
 ],
 "metadata": {
  "kernelspec": {
   "display_name": "Python 3 (ipykernel)",
   "language": "python",
   "name": "python3"
  },
  "language_info": {
   "codemirror_mode": {
    "name": "ipython",
    "version": 3
   },
   "file_extension": ".py",
   "mimetype": "text/x-python",
   "name": "python",
   "nbconvert_exporter": "python",
   "pygments_lexer": "ipython3",
   "version": "3.10.6"
  }
 },
 "nbformat": 4,
 "nbformat_minor": 5
}
